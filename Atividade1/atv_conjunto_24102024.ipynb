{
  "nbformat": 4,
  "nbformat_minor": 0,
  "metadata": {
    "colab": {
      "provenance": [],
      "authorship_tag": "ABX9TyM9Lo4/3AHtHieCqXLEC7g7",
      "include_colab_link": true
    },
    "kernelspec": {
      "name": "python3",
      "display_name": "Python 3"
    },
    "language_info": {
      "name": "python"
    }
  },
  "cells": [
    {
      "cell_type": "markdown",
      "metadata": {
        "id": "view-in-github",
        "colab_type": "text"
      },
      "source": [
        "<a href=\"https://colab.research.google.com/github/flavio-dalla/ENG_20242/blob/main/Atividade1/atv_conjunto_24102024.ipynb\" target=\"_parent\"><img src=\"https://colab.research.google.com/assets/colab-badge.svg\" alt=\"Open In Colab\"/></a>"
      ]
    },
    {
      "cell_type": "code",
      "execution_count": null,
      "metadata": {
        "colab": {
          "base_uri": "https://localhost:8080/"
        },
        "id": "OXkMXs-jD7BE",
        "outputId": "42813db7-dab1-4910-a6de-9484567c8634"
      },
      "outputs": [
        {
          "output_type": "stream",
          "name": "stdout",
          "text": [
            "[2, 4, 6, 8, 10]\n"
          ]
        }
      ],
      "source": [
        "#1. Crie uma lista contendo cinco números inteiros de sua escolha. Em seguida, percorra essa lista e imprima o valor de cada elemento multiplicado por 2. O resultado deve mostrar o novo valor de cada elemento, um por vez\n",
        "lista = [1,2,3,4,5]\n",
        "print([x*2 for x in lista])"
      ]
    },
    {
      "cell_type": "code",
      "source": [
        "#2. Dada a lista [\"maçã\", \"banana\", \"laranja\", \"uva\"], remova o item \"banana\" da lista e adicione a fruta \"melancia\" no lugar. Depois, mostre a nova lista atualizada com as alterações feitas.\n",
        "lista = [\"maçã\", \"banana\", \"laranja\", \"uva\"]\n",
        "lista[lista.index('banana')] = 'melancia'\n",
        "print(lista)"
      ],
      "metadata": {
        "colab": {
          "base_uri": "https://localhost:8080/"
        },
        "id": "MEdMiQqWIQJG",
        "outputId": "9b59f507-9a07-49ee-d5aa-7ddeca8331a9"
      },
      "execution_count": 1,
      "outputs": [
        {
          "output_type": "stream",
          "name": "stdout",
          "text": [
            "['maçã', 'melancia', 'laranja', 'uva']\n"
          ]
        }
      ]
    },
    {
      "cell_type": "code",
      "source": [
        "#3. Escreva um programa que receba uma lista de números inteiros e exiba qual é o maior número e qual é o menor número presente na lista. Certifique-se de mostrar ambos os valores ao final.\n",
        "lista = [0,1,2,3,4,5,6,7,8,9]\n",
        "print(f\"Max: {min(lista)} - Min: {max(lista)}\")"
      ],
      "metadata": {
        "colab": {
          "base_uri": "https://localhost:8080/"
        },
        "id": "yOwjN6Y7KLh2",
        "outputId": "71f89cf1-c3e8-45c8-ff81-3e30817f7d32"
      },
      "execution_count": 2,
      "outputs": [
        {
          "output_type": "stream",
          "name": "stdout",
          "text": [
            "Max: 0 - Min: 9\n"
          ]
        }
      ]
    },
    {
      "cell_type": "code",
      "source": [
        "#4. Crie uma função que receba uma lista contendo várias palavras (strings). A função deve devolver uma nova lista que contenha a quantidade de letras de cada palavra da lista original. Exiba essa nova lista com o número de letras correspondente a cada palavra.\n",
        "palavras = ['Espanhol','Francês','Austrália','Suíça']\n",
        "qtd_letras = []\n",
        "for i in palavras:\n",
        "  qtd_letras.append(len(i))\n",
        "print(qtd_letras)"
      ],
      "metadata": {
        "id": "Q8nBbofGKmEY",
        "colab": {
          "base_uri": "https://localhost:8080/"
        },
        "outputId": "433a8f64-9dc7-49a1-cb0d-1241ac583c98"
      },
      "execution_count": 3,
      "outputs": [
        {
          "output_type": "stream",
          "name": "stdout",
          "text": [
            "[8, 7, 9, 5]\n"
          ]
        }
      ]
    },
    {
      "cell_type": "code",
      "source": [
        "#5. Dada uma lista de números inteiros que você vai definir, ordene essa lista em ordem crescente e depois exiba o resultado da lista ordenada.\n",
        "numeros = [1,7,5,3,6,8,9,3,67]\n",
        "numeros.sort()\n",
        "print(numeros)"
      ],
      "metadata": {
        "colab": {
          "base_uri": "https://localhost:8080/"
        },
        "id": "mVvErxzqt4yr",
        "outputId": "5b7ad875-cfc0-4e56-cdb7-9ef1982902de"
      },
      "execution_count": 4,
      "outputs": [
        {
          "output_type": "stream",
          "name": "stdout",
          "text": [
            "[1, 3, 3, 5, 6, 7, 8, 9, 67]\n"
          ]
        }
      ]
    },
    {
      "cell_type": "code",
      "source": [
        "#6. Crie uma tupla que contenha os números de 1 a 5. Tente alterar o valor do segundo elemento dessa tupla e observe o que acontece. No final, explique por que você conseguiu ou não modificar o valor.\n",
        "tupla = (1,2,3,4,5)\n",
        "# tupla[0] = 2\n",
        "print(tupla)\n",
        "#tuplas são imutáveis!"
      ],
      "metadata": {
        "colab": {
          "base_uri": "https://localhost:8080/"
        },
        "id": "SYNufTnxt7ED",
        "outputId": "0e7fa71f-1cd5-4307-834e-443e172be765"
      },
      "execution_count": 5,
      "outputs": [
        {
          "output_type": "stream",
          "name": "stdout",
          "text": [
            "(1, 2, 3, 4, 5)\n"
          ]
        }
      ]
    },
    {
      "cell_type": "code",
      "source": [
        "#7. Escreva um programa que receba uma tupla contendo diversos números inteiros. O programa deve calcular e exibir a soma de todos os números presentes na tupla.\n",
        "tuplas = (1,2,3,4,5,6,7,8,9)\n",
        "print(sum(tuplas))"
      ],
      "metadata": {
        "colab": {
          "base_uri": "https://localhost:8080/"
        },
        "id": "j31DGM_ct7LS",
        "outputId": "ba21ad74-5071-40b2-cf0b-bc7e9d53ecd1"
      },
      "execution_count": 6,
      "outputs": [
        {
          "output_type": "stream",
          "name": "stdout",
          "text": [
            "45\n"
          ]
        }
      ]
    },
    {
      "cell_type": "code",
      "source": [
        "#8. Dada uma tupla que contém cinco números, crie uma função que retorne o primeiro e o último número dessa tupla. O programa deve imprimir ambos os valores corretamente.\n",
        "tuplinha = (15,46,21,87,10,2)\n",
        "print(f'Primeiro: {tuplinha[0]} - Último: {tuplinha[-1]}')"
      ],
      "metadata": {
        "colab": {
          "base_uri": "https://localhost:8080/"
        },
        "id": "tcp1NliVt7ST",
        "outputId": "83cdaf5e-7d0d-4d49-e9bf-9bea2d3c6fa3"
      },
      "execution_count": 7,
      "outputs": [
        {
          "output_type": "stream",
          "name": "stdout",
          "text": [
            "Primeiro: 15 - Último: 2\n"
          ]
        }
      ]
    },
    {
      "cell_type": "code",
      "source": [
        "#9. Converta a lista [\"a\", \"b\", \"c\", \"d\"] em uma tupla e, em seguida, exiba o tipo do novo objeto que foi criado. O programa deve deixar claro que o tipo mudou de lista para tupla.\n",
        "lista = [\"a\", \"b\", \"c\", \"d\"]\n",
        "tupla = tuple(lista)\n",
        "print(tupla)"
      ],
      "metadata": {
        "colab": {
          "base_uri": "https://localhost:8080/"
        },
        "id": "97Kj4VW6t8Xb",
        "outputId": "4456fe9e-7e11-4368-a42e-9af4589a55e0"
      },
      "execution_count": 8,
      "outputs": [
        {
          "output_type": "stream",
          "name": "stdout",
          "text": [
            "('a', 'b', 'c', 'd')\n"
          ]
        }
      ]
    },
    {
      "cell_type": "code",
      "source": [
        "#10. Crie uma tupla com três números inteiros e uma string. Depois, verifique se o número 3 está presente nessa tupla e mostre uma mensagem dizendo se o número foi encontrado ou não.\n",
        "tuplete = (54,21,34,\"estringue\")\n",
        "if 3 in lista:\n",
        "  print('3 está na lista.')\n",
        "else:\n",
        "  print('3 não está na lista.')"
      ],
      "metadata": {
        "colab": {
          "base_uri": "https://localhost:8080/"
        },
        "id": "SLUm4R89t8ci",
        "outputId": "098c08bc-c7b0-423d-dbcf-695a1b7cf5b0"
      },
      "execution_count": 9,
      "outputs": [
        {
          "output_type": "stream",
          "name": "stdout",
          "text": [
            "3 não está na lista.\n"
          ]
        }
      ]
    },
    {
      "cell_type": "code",
      "source": [
        "#11. Crie dois sets: set1 = {1, 2, 3, 4} e set2 = {3, 4, 5, 6}. Exiba a união dos dois sets (todos os elementos sem repetição), a interseção (elementos que aparecem nos dois sets) e a diferença (elementos presentes no primeiro set, mas não no segundo). Mostre os resultados de cada operação.\n",
        "set1 = {1, 2, 3, 4}\n",
        "set2 = {3, 4, 5, 6}\n",
        "print(f'União:      {set1.union(set2)}')\n",
        "print(f'Interseção: {set1.intersection(set2)}')\n",
        "print(f'Diferença:  {set1.difference(set2)}')"
      ],
      "metadata": {
        "colab": {
          "base_uri": "https://localhost:8080/"
        },
        "id": "D-iGuH-it8hy",
        "outputId": "bde68801-2832-4bc3-8385-61d37526e6ac"
      },
      "execution_count": 12,
      "outputs": [
        {
          "output_type": "stream",
          "name": "stdout",
          "text": [
            "União:      {1, 2, 3, 4, 5, 6}\n",
            "Interseção: {3, 4}\n",
            "Diferença:  {1, 2}\n"
          ]
        }
      ]
    },
    {
      "cell_type": "code",
      "source": [
        "#12. Dada a lista [1, 2, 2, 3, 4, 4, 5], remova os elementos duplicados transformando a lista em um set. Ao final, exiba o set resultante, que deve conter apenas valores únicos.\n",
        "lista = [1, 2, 2, 3, 4, 4, 5]\n",
        "lista = set(semdu)\n",
        "print(semdu)"
      ],
      "metadata": {
        "colab": {
          "base_uri": "https://localhost:8080/"
        },
        "id": "cKUQpLalt8nC",
        "outputId": "de8a91c9-96cc-4505-f205-a5d5b1201d2a"
      },
      "execution_count": 15,
      "outputs": [
        {
          "output_type": "stream",
          "name": "stdout",
          "text": [
            "{1, 2, 3, 4, 5}\n"
          ]
        }
      ]
    },
    {
      "cell_type": "code",
      "source": [
        "#13. Crie um set contendo os valores {5, 10, 15, 20}. Adicione o número 25 a esse set e depois remova o valor 15. Mostre o set após cada alteração.\n",
        "valores = {5, 10, 15, 20}\n",
        "print(f'Set sequinho: {valores}')\n",
        "valores.add(25)\n",
        "print(f'Set com o 25: {valores}')\n",
        "valores.remove(15)\n",
        "print(f'Set sem o 15: {valores}')"
      ],
      "metadata": {
        "colab": {
          "base_uri": "https://localhost:8080/"
        },
        "id": "F0gkE5aSt8sc",
        "outputId": "dd4bbb9b-3623-424e-8aa2-bf6cb7d65895"
      },
      "execution_count": 16,
      "outputs": [
        {
          "output_type": "stream",
          "name": "stdout",
          "text": [
            "Set sequinho: {10, 20, 5, 15}\n",
            "Set com o 25: {5, 10, 15, 20, 25}\n",
            "Set sem o 15: {5, 10, 20, 25}\n"
          ]
        }
      ]
    },
    {
      "cell_type": "code",
      "source": [
        "#14. Verifique se o número 7 está presente no set {1, 2, 3, 4, 5}. O programa deve exibir uma mensagem informando se o número foi encontrado ou não no set.\n",
        "sete = {1, 2, 3, 4, 5}\n",
        "if 7 in sete:\n",
        "  print('7 está no set.')\n",
        "else:\n",
        "  print('7 não está o set.')"
      ],
      "metadata": {
        "colab": {
          "base_uri": "https://localhost:8080/"
        },
        "id": "3O4HH_Qdt8xj",
        "outputId": "ed454814-e32b-4328-a7ee-0f63cd678c11"
      },
      "execution_count": 17,
      "outputs": [
        {
          "output_type": "stream",
          "name": "stdout",
          "text": [
            "7 não está o set.\n"
          ]
        }
      ]
    },
    {
      "cell_type": "code",
      "source": [
        "#15. Crie um set vazio e adicione vários valores a ele usando um laço de repetição (por exemplo, um for ou while). No final, mostre todos os valores armazenados no set.\n",
        "vazio = set()\n",
        "num = 1\n",
        "while num != 0:\n",
        "  num = int(input('Adicione um número(0 para parar): '))\n",
        "  vazio.add(num)\n",
        "print(vazio)"
      ],
      "metadata": {
        "colab": {
          "base_uri": "https://localhost:8080/"
        },
        "id": "WUxDI8DMt82z",
        "outputId": "6478d2e3-0be5-426d-cf0a-fb8540ad043d"
      },
      "execution_count": 21,
      "outputs": [
        {
          "output_type": "stream",
          "name": "stdout",
          "text": [
            "Adicione um número(0 para parar): 4\n",
            "Adicione um número(0 para parar): 6\n",
            "Adicione um número(0 para parar): 2\n",
            "Adicione um número(0 para parar): 3\n",
            "Adicione um número(0 para parar): 1\n",
            "Adicione um número(0 para parar): 0\n",
            "{0, 1, 2, 3, 4, 6}\n"
          ]
        }
      ]
    },
    {
      "cell_type": "code",
      "source": [
        "#16. Crie um dicionário com os pares chave-valor 'nome': 'Ana', 'idade': 22, 'curso': 'Engenharia'. Adicione uma nova chave 'universidade': 'USP' ao dicionário. Em seguida, exiba o dicionário completo com todas as informações.\n",
        "cadastro = {'nome' : 'Ana','idade': 22,'curso': 'Engenharia'}\n",
        "cadastro['universidade'] = 'USP'\n",
        "print(cadastro)"
      ],
      "metadata": {
        "colab": {
          "base_uri": "https://localhost:8080/"
        },
        "id": "ln3nwOrkt88L",
        "outputId": "0da5a74a-08b9-467b-f418-fbf85ffc82e6"
      },
      "execution_count": 25,
      "outputs": [
        {
          "output_type": "stream",
          "name": "stdout",
          "text": [
            "{'nome': 'Ana', 'idade': 22, 'curso': 'Engenharia', 'universidade': 'USP'}\n"
          ]
        }
      ]
    },
    {
      "cell_type": "code",
      "source": [
        "#17. Escreva um programa que percorra um dicionário com várias chaves e valores. Para cada par, imprima a chave e o valor no formato: Chave: X, Valor: Y. O dicionário pode conter qualquer informação que você preferir.\n",
        "cradrasto = {'nome' : 'Ana','idade': 22,'curso': 'Engenharia','universidade' : 'USP'}\n",
        "for first, second in cradrasto.items():\n",
        "  print(f\"{first}: {second}\")"
      ],
      "metadata": {
        "colab": {
          "base_uri": "https://localhost:8080/"
        },
        "id": "Em0GIXEmt9Bj",
        "outputId": "521cc537-637b-460e-ed23-abcbfa71e2d9"
      },
      "execution_count": 29,
      "outputs": [
        {
          "output_type": "stream",
          "name": "stdout",
          "text": [
            "nome: Ana\n",
            "idade: 22\n",
            "curso: Engenharia\n",
            "universidade: USP\n"
          ]
        }
      ]
    },
    {
      "cell_type": "code",
      "source": [
        "#18. Crie um dicionário que relacione nomes de alunos às suas notas. Depois, crie uma função que calcule e exiba a média das notas desses alunos com base nas informações do dicionário.\n",
        "notas = {'Ryan' : [10,8,7,6], 'Senhor' : [5,9,4,10]}\n",
        "for i in notas:\n",
        "  print(i,sum(notas[i])/len(notas[i]))"
      ],
      "metadata": {
        "colab": {
          "base_uri": "https://localhost:8080/"
        },
        "id": "QiCpDUbRt9Ga",
        "outputId": "ca51f26f-a407-4b2f-f05c-e81b45687e16"
      },
      "execution_count": 33,
      "outputs": [
        {
          "output_type": "stream",
          "name": "stdout",
          "text": [
            "Ryan 7.75\n",
            "Senhor 7.0\n"
          ]
        }
      ]
    },
    {
      "cell_type": "code",
      "source": [
        "#19. Escreva um programa que permita ao usuário buscar o valor de uma chave específica em um dicionário. Caso a chave não exista, o programa deve exibir uma mensagem dizendo que a chave não foi encontrada. Teste o programa com diferentes chaves.\n",
        "cradrasto = {'nome' : 'Ana','idade': 22,'curso': 'Engenharia','universidade' : 'USP'}\n",
        "busca = input(\"Digite o que deseja buscar: \")\n",
        "if busca in cradrasto:\n",
        "  print(f'{busca}: {cradrasto[busca]}')\n",
        "else:\n",
        "  print('Não foi posível encontrar sua busca.')"
      ],
      "metadata": {
        "colab": {
          "base_uri": "https://localhost:8080/"
        },
        "id": "WCSn24qnt9Lb",
        "outputId": "a1ce36ce-0705-49e9-c54f-edeb930433de"
      },
      "execution_count": 37,
      "outputs": [
        {
          "output_type": "stream",
          "name": "stdout",
          "text": [
            "Digite o que deseja buscar: idade\n",
            "idade: 22\n"
          ]
        }
      ]
    },
    {
      "cell_type": "code",
      "source": [
        "#20. Dado um dicionário que contém produtos e seus respectivos preços, como {'pão': 2.50, 'leite': 3.00, 'café': 4.50}, permita que o usuário altere o preço de um dos produtos e exiba o dicionário atualizado com o novo valor.\n",
        "padarola = {'pão': 2.50, 'leite': 3.00, 'café': 4.50}\n",
        "for i in padarola:\n",
        "  print(i)\n",
        "alteracao = input('Qual quer alterar: ')\n",
        "print(f'Preço atual do {alteracao}: {padarola[alteracao]}')\n",
        "nvPreco = float(input('Novo preço: '))\n",
        "padarola[alteracao] = nvPreco\n",
        "print(padarola)"
      ],
      "metadata": {
        "colab": {
          "base_uri": "https://localhost:8080/"
        },
        "id": "EgvYs2iVt9Qi",
        "outputId": "1840bb35-1623-4c09-8e54-714e7f3c3f02"
      },
      "execution_count": 41,
      "outputs": [
        {
          "output_type": "stream",
          "name": "stdout",
          "text": [
            "pão\n",
            "leite\n",
            "café\n",
            "Qual quer alterar: leite\n",
            "Preço atual do leite: 3.0\n",
            "Novo preço: 9\n",
            "{'pão': 2.5, 'leite': 9.0, 'café': 4.5}\n"
          ]
        }
      ]
    }
  ]
}