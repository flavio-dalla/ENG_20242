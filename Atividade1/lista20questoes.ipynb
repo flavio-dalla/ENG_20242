{
  "nbformat": 4,
  "nbformat_minor": 0,
  "metadata": {
    "colab": {
      "provenance": [],
      "authorship_tag": "ABX9TyPv2ZCBp0CKBOxLH4f6w8s8",
      "include_colab_link": true
    },
    "kernelspec": {
      "name": "python3",
      "display_name": "Python 3"
    },
    "language_info": {
      "name": "python"
    }
  },
  "cells": [
    {
      "cell_type": "markdown",
      "metadata": {
        "id": "view-in-github",
        "colab_type": "text"
      },
      "source": [
        "<a href=\"https://colab.research.google.com/github/flavio-dalla/ENG_20242/blob/main/Atividade1/lista20questoes.ipynb\" target=\"_parent\"><img src=\"https://colab.research.google.com/assets/colab-badge.svg\" alt=\"Open In Colab\"/></a>"
      ]
    },
    {
      "cell_type": "code",
      "execution_count": 37,
      "metadata": {
        "id": "4aLJP_HzuPKr"
      },
      "outputs": [],
      "source": [
        "#1. Crie uma função que receba uma lista de números e retorne uma lista contendo apenas os números ímpares.\n",
        "def impares(lista):\n",
        "  return [x for x in lista if x % 2 == 1]\n",
        "#2. Escreva uma função que receba uma lista e retorne uma nova lista com o dobro de cada elemento.\n",
        "def dobro(lista):\n",
        "  return [x*2 for x in lista]\n",
        "#3. Faça uma função que receba uma lista e retorne uma lista sem duplicatas.\n",
        "def duplicados(lista):\n",
        "  dupli = []\n",
        "  for i in lista:\n",
        "    if i not in dupli:\n",
        "      dupli.append(i)\n",
        "  return dupli\n",
        "#4. Crie uma função que receba uma lista e um valor divisor e retorne uma lista dos elementos que são divisíveis pelo divisor.\n",
        "def divisor3(lista, divi):\n",
        "  return [x for x in lista if x % divi == 0]\n",
        "#5. Escreva uma função que receba duas listas e retorne um conjunto com os elementos que aparecem em ambas.\n",
        "def comum(lista1,lista2):\n",
        "  lista1,lista2 = set(lista1), set(lista2)\n",
        "  return lista1.intersection(lista2)\n",
        "#6. Crie uma função que receba uma lista e retorne uma nova lista com os elementos em ordem inversa.\n",
        "def inversa(lista):\n",
        "  listainversa = lista.copy()\n",
        "  listainversa.reverse()\n",
        "  return listainversa\n",
        "#7. Escreva uma função que receba uma lista de números e retorne uma lista contendo o quadrado de cada número.\n",
        "def quadrados(lista):\n",
        "  nvlista = [x**2 for x in lista]\n",
        "  return nvlista\n",
        "#8. Crie uma função que receba uma lista e um valor, e retorne uma lista com os elementos maiores que esse valor.\n",
        "def maior(lista,valor):\n",
        "  maiores = [x for x in lista if x > valor]\n",
        "  return maiores\n",
        "#9. Escreva uma função que receba duas listas e retorne uma lista dos elementos que estão em apenas uma das listas.\n",
        "def apenasuma(lista1,lista2):\n",
        "  unico = []\n",
        "  for i in lista1:\n",
        "    if i not in lista2:\n",
        "      unico.append(i)\n",
        "  return unico\n",
        "#10. Faça uma função que receba uma lista e retorne um conjunto dos elementos únicos.\n",
        "def conjunto(lista):\n",
        "  lista = set(lista)\n",
        "  return lista\n",
        "#11. Crie uma função que receba duas listas e retorne uma lista dos elementos únicos que estão em ambas.\n",
        "def unicos(lista1,lista2):\n",
        "  unic = []\n",
        "  for i in lista1:\n",
        "    if i not in lista2:\n",
        "      unic.append(i)\n",
        "  for j in lista2:\n",
        "    if j not in lista1:\n",
        "      unic.append(j)\n",
        "  return unic\n",
        "#12. Escreva uma função que receba uma lista e retorne uma lista contendo os elementos que aparecem mais de uma vez.\n",
        "def maisdeum(lista):\n",
        "  another = [x for x in lista if lista.count(x)>1]\n",
        "  return another\n",
        "#13. Faça uma função que receba uma lista de números e retorne uma lista dos números pares.\n",
        "def pares(lista):\n",
        "  return [x for x in lista if x % 2 == 0]\n",
        "#14. Escreva uma função que receba uma lista de números e um valor, e retorne uma lista com os índices dos elementos maiores que o valor.\n",
        "def indice(lista):\n",
        "  indic = [x for x in lista if lista.index(x)<x]\n",
        "  return indic\n",
        "#15. Crie uma função que receba uma lista de strings e retorne uma lista com o tamanho de cada string.\n",
        "def tamanho(lista):\n",
        "  tamanho = []\n",
        "  for i in lista:\n",
        "    tamanho.append(len(i))\n",
        "  return tamanho\n",
        "#16. Escreva uma função que receba uma lista de números e retorne uma lista contendo cada número elevado ao cubo.\n",
        "def cubo(lista):\n",
        "  return [x**3 for x in lista]\n",
        "#17. Crie uma função que receba uma lista e retorne uma lista de todos os elementos únicos.\n",
        "def unic(lista):\n",
        "  unico = []\n",
        "  for i in lista:\n",
        "    if lista.count(i) == 1:\n",
        "      unico.append(i)\n",
        "  return unico\n",
        "#18. Escreva uma função que receba uma lista de strings e retorne uma lista contendo as strings que começam com uma letra maiúscula.\n",
        "def maiuscula(lista):\n",
        "  verif = []\n",
        "  for i in lista:\n",
        "    if i[0].isupper():\n",
        "      verif.append(i)\n",
        "  return verif\n",
        "#19. Faça uma função que receba uma lista de números e retorne uma lista contendo apenas os múltiplos de 3.\n",
        "def mult3(lista):\n",
        "  return [x for x in lista if x % 3 == 0]\n",
        "#20. Escreva uma função que receba duas listas e retorne uma lista com a interseção ordenada de forma crescente entre elas.\n",
        "def inter(l1,l2):\n",
        "  inter = []\n",
        "  l1,l2 = set(l2),set(l2)\n",
        "  intersecao = l1.intersection(l2)\n",
        "  for i in intersecao:\n",
        "    inter.append(i)\n",
        "  return sorted(inter)"
      ]
    },
    {
      "cell_type": "code",
      "source": [
        "#1. Crie uma função que receba uma lista de números e retorne uma lista contendo apenas os números ímpares.\n",
        "num = [1,2,3,4,5,6,7,8,9]\n",
        "impares(num)"
      ],
      "metadata": {
        "id": "OUo15vaquST7",
        "colab": {
          "base_uri": "https://localhost:8080/"
        },
        "outputId": "892753a3-a15f-4336-974f-c2c42cb1dea9"
      },
      "execution_count": null,
      "outputs": [
        {
          "output_type": "execute_result",
          "data": {
            "text/plain": [
              "[1, 3, 5, 7, 9]"
            ]
          },
          "metadata": {},
          "execution_count": 4
        }
      ]
    },
    {
      "cell_type": "code",
      "source": [
        "#2. Escreva uma função que receba uma lista e retorne uma nova lista com o dobro de cada elemento.\n",
        "num = [1,2,3,4,5,6,7,8,9]\n",
        "dobro(num)"
      ],
      "metadata": {
        "id": "ifu0AojEuU7Z",
        "colab": {
          "base_uri": "https://localhost:8080/"
        },
        "outputId": "43c13b11-8c55-4794-df7a-6031b8d43fee"
      },
      "execution_count": null,
      "outputs": [
        {
          "output_type": "execute_result",
          "data": {
            "text/plain": [
              "[2, 4, 6, 8, 10, 12, 14, 16, 18]"
            ]
          },
          "metadata": {},
          "execution_count": 6
        }
      ]
    },
    {
      "cell_type": "code",
      "source": [
        "#3. Faça uma função que receba uma lista e retorne uma lista sem duplicatas.\n",
        "duplas = [1,1,2,2,3,4,5,5,6,7,7]\n",
        "duplicados(duplas)"
      ],
      "metadata": {
        "id": "T18dWde_uW3h",
        "colab": {
          "base_uri": "https://localhost:8080/"
        },
        "outputId": "8efbed17-dbec-4904-9256-88d0239d8596"
      },
      "execution_count": null,
      "outputs": [
        {
          "output_type": "execute_result",
          "data": {
            "text/plain": [
              "[1, 2, 3, 4, 5, 6, 7]"
            ]
          },
          "metadata": {},
          "execution_count": 11
        }
      ]
    },
    {
      "cell_type": "code",
      "source": [
        "#4. Crie uma função que receba uma lista e um valor divisor e retorne uma lista dos elementos que são divisíveis pelo divisor.\n",
        "numeros = [1,2,3,4,5,6,7,8,9]\n",
        "divisor = 3\n",
        "divisor3(numeros,divisor)"
      ],
      "metadata": {
        "id": "ZiNcBndmuaZa",
        "colab": {
          "base_uri": "https://localhost:8080/"
        },
        "outputId": "b055dbc9-1d56-4e32-809a-e870113acd55"
      },
      "execution_count": null,
      "outputs": [
        {
          "output_type": "execute_result",
          "data": {
            "text/plain": [
              "[3, 6, 9]"
            ]
          },
          "metadata": {},
          "execution_count": 26
        }
      ]
    },
    {
      "cell_type": "code",
      "source": [
        "#5. Escreva uma função que receba duas listas e retorne um conjunto com os elementos que aparecem em ambas.\n",
        "primeiro = [1,2,3,4,5]\n",
        "segundo = [3,4,5,6,7]\n",
        "comum(primeiro,segundo)"
      ],
      "metadata": {
        "id": "TXirBoUWufAK",
        "colab": {
          "base_uri": "https://localhost:8080/"
        },
        "outputId": "57f4e235-70b1-47c7-fd7a-8ec1d869625f"
      },
      "execution_count": null,
      "outputs": [
        {
          "output_type": "execute_result",
          "data": {
            "text/plain": [
              "{3, 4, 5}"
            ]
          },
          "metadata": {},
          "execution_count": 29
        }
      ]
    },
    {
      "cell_type": "code",
      "source": [
        "#6. Crie uma função que receba uma lista e retorne uma nova lista com os elementos em ordem inversa.\n",
        "listo = [1,2,3,4,5,6,7,8,9,10]\n",
        "inversa(listo)"
      ],
      "metadata": {
        "id": "0DANJ_S-uiuQ",
        "colab": {
          "base_uri": "https://localhost:8080/"
        },
        "outputId": "57684231-cc1a-41f1-89af-3e6c6b1085c5"
      },
      "execution_count": null,
      "outputs": [
        {
          "output_type": "execute_result",
          "data": {
            "text/plain": [
              "[10, 9, 8, 7, 6, 5, 4, 3, 2, 1]"
            ]
          },
          "metadata": {},
          "execution_count": 54
        }
      ]
    },
    {
      "cell_type": "code",
      "source": [
        "#7. Escreva uma função que receba uma lista de números e retorne uma lista contendo o quadrado de cada número.\n",
        "numeros = [1,2,3,4,5,6,7,8,9,10]\n",
        "quadrados(numeros)"
      ],
      "metadata": {
        "id": "PgENesJJulwY",
        "colab": {
          "base_uri": "https://localhost:8080/"
        },
        "outputId": "ca5d79f0-42f6-4eeb-eecd-1f868727e24d"
      },
      "execution_count": null,
      "outputs": [
        {
          "output_type": "execute_result",
          "data": {
            "text/plain": [
              "[1, 4, 9, 16, 25, 36, 49, 64, 81, 100]"
            ]
          },
          "metadata": {},
          "execution_count": 56
        }
      ]
    },
    {
      "cell_type": "code",
      "source": [
        "#8. Crie uma função que receba uma lista e um valor, e retorne uma lista com os elementos maiores que esse valor.\n",
        "numeros = [1,2,3,4,5,6,7,8,9,10]\n",
        "valorr = 5\n",
        "maior(numeros,valorr)"
      ],
      "metadata": {
        "id": "EZejpYZnuoaA",
        "colab": {
          "base_uri": "https://localhost:8080/"
        },
        "outputId": "d2ab4206-3dfe-4fea-ec51-2ea52f0f8f9b"
      },
      "execution_count": null,
      "outputs": [
        {
          "output_type": "execute_result",
          "data": {
            "text/plain": [
              "[6, 7, 8, 9, 10]"
            ]
          },
          "metadata": {},
          "execution_count": 58
        }
      ]
    },
    {
      "cell_type": "code",
      "source": [
        "#9. Escreva uma função que receba duas listas e retorne uma lista dos elementos que estão em apenas uma das listas.\n",
        "primeira = [1,2,3,4,5,6,7,8,9,10]\n",
        "segunda = [7,8,9,10,11,12,13]\n",
        "apenasuma(primeira,segunda)"
      ],
      "metadata": {
        "id": "v9_6-pykur-B",
        "colab": {
          "base_uri": "https://localhost:8080/"
        },
        "outputId": "d363b429-fe78-4c2b-b48d-05abb595b8de"
      },
      "execution_count": null,
      "outputs": [
        {
          "output_type": "execute_result",
          "data": {
            "text/plain": [
              "[1, 2, 3, 4, 5, 6]"
            ]
          },
          "metadata": {},
          "execution_count": 60
        }
      ]
    },
    {
      "cell_type": "code",
      "source": [
        "#10. Faça uma função que receba uma lista e retorne um conjunto dos elementos únicos.\n",
        "lista = [1,2,2,3,4,5,6,7,8,9,6,54,121,22,33,33,22]\n",
        "conjunto(lista)"
      ],
      "metadata": {
        "id": "Yb-o5p5luyZS",
        "colab": {
          "base_uri": "https://localhost:8080/"
        },
        "outputId": "6f2cca29-8e82-4437-9d77-13e39f0563d4"
      },
      "execution_count": null,
      "outputs": [
        {
          "output_type": "execute_result",
          "data": {
            "text/plain": [
              "{1, 2, 3, 4, 5, 6, 7, 8, 9, 22, 33, 54, 121}"
            ]
          },
          "metadata": {},
          "execution_count": 62
        }
      ]
    },
    {
      "cell_type": "code",
      "source": [
        "#11. Crie uma função que receba duas listas e retorne uma lista dos elementos únicos que estão em ambas.\n",
        "primeiro = [1,2,3,4,5,6,7]\n",
        "segundo = [4,5,6,7,8,9,10,11,12,13]\n",
        "unicos(primeiro,segundo)"
      ],
      "metadata": {
        "id": "nUriwvt0uzuK",
        "colab": {
          "base_uri": "https://localhost:8080/"
        },
        "outputId": "64153b0a-e003-4425-bd80-bf22bc085fc3"
      },
      "execution_count": null,
      "outputs": [
        {
          "output_type": "execute_result",
          "data": {
            "text/plain": [
              "[1, 2, 3, 8, 9, 10, 11, 12, 13]"
            ]
          },
          "metadata": {},
          "execution_count": 64
        }
      ]
    },
    {
      "cell_type": "code",
      "source": [
        "#12. Escreva uma função que receba uma lista e retorne uma lista contendo os elementos que aparecem mais de uma vez.\n",
        "numeros = [1,1,2,2,3,3,4,5,6,7,7,8,9,10,10]\n",
        "maisdeum(numeros)"
      ],
      "metadata": {
        "id": "pO9O23r-u1FK",
        "colab": {
          "base_uri": "https://localhost:8080/"
        },
        "outputId": "8ff20967-a921-44bc-a4eb-74c94a64050f"
      },
      "execution_count": null,
      "outputs": [
        {
          "output_type": "execute_result",
          "data": {
            "text/plain": [
              "[1, 1, 2, 2, 3, 3, 7, 7, 10, 10]"
            ]
          },
          "metadata": {},
          "execution_count": 72
        }
      ]
    },
    {
      "cell_type": "code",
      "source": [
        "#13. Faça uma função que receba uma lista de números e retorne uma lista dos números pares.\n",
        "lista = [1,2,3,4,5,6,7,8,9,10]\n",
        "pares(lista)"
      ],
      "metadata": {
        "id": "5-_1U0snu2sh",
        "colab": {
          "base_uri": "https://localhost:8080/"
        },
        "outputId": "270a2765-4d05-44f0-ffbf-fdfe46f240cb"
      },
      "execution_count": null,
      "outputs": [
        {
          "output_type": "execute_result",
          "data": {
            "text/plain": [
              "[2, 4, 6, 8, 10]"
            ]
          },
          "metadata": {},
          "execution_count": 75
        }
      ]
    },
    {
      "cell_type": "code",
      "source": [
        "#14. Escreva uma função que receba uma lista de números e um valor, e retorne uma lista com os índices dos elementos maiores que o valor.\n",
        "lista = [1,0,2,5,6,10,2,3]\n",
        "indice(lista)"
      ],
      "metadata": {
        "id": "ZgsNkmDBu4FK",
        "colab": {
          "base_uri": "https://localhost:8080/"
        },
        "outputId": "06b1d605-b42e-4a8f-c3ac-47b91c7406f9"
      },
      "execution_count": null,
      "outputs": [
        {
          "output_type": "execute_result",
          "data": {
            "text/plain": [
              "[0, 3]"
            ]
          },
          "metadata": {},
          "execution_count": 76
        }
      ]
    },
    {
      "cell_type": "code",
      "source": [
        "#15. Crie uma função que receba uma lista de strings e retorne uma lista com o tamanho de cada string.\n",
        "palavras = ['banana','maca','futeebol','limao','confuso']\n",
        "tamanho(palavras)"
      ],
      "metadata": {
        "id": "5eQdXXxju6bU",
        "colab": {
          "base_uri": "https://localhost:8080/"
        },
        "outputId": "47339318-8481-4668-e359-5374f09dcb70"
      },
      "execution_count": 16,
      "outputs": [
        {
          "output_type": "execute_result",
          "data": {
            "text/plain": [
              "[6, 4, 8, 5, 7]"
            ]
          },
          "metadata": {},
          "execution_count": 16
        }
      ]
    },
    {
      "cell_type": "code",
      "source": [
        "#16. Escreva uma função que receba uma lista de números e retorne uma lista contendo cada número elevado ao cubo.\n",
        "numeros = [1,2,3,4,5,6,7,8,9,10]\n",
        "cubo(numeros)"
      ],
      "metadata": {
        "id": "6xJERrINu78i",
        "colab": {
          "base_uri": "https://localhost:8080/"
        },
        "outputId": "77b71afb-09ea-4606-87b4-e0f545f3298f"
      },
      "execution_count": 19,
      "outputs": [
        {
          "output_type": "execute_result",
          "data": {
            "text/plain": [
              "[1, 8, 27, 64, 125, 216, 343, 512, 729, 1000]"
            ]
          },
          "metadata": {},
          "execution_count": 19
        }
      ]
    },
    {
      "cell_type": "code",
      "source": [
        "#17. Crie uma função que receba uma lista e retorne uma lista de todos os elementos únicos.\n",
        "lista = [1,1,2,2,2,3,4,5,6,7,88,8,8,9,10,10]\n",
        "unic(lista)"
      ],
      "metadata": {
        "id": "TOKJ8Lanu9O6",
        "colab": {
          "base_uri": "https://localhost:8080/"
        },
        "outputId": "bc91d77f-f71a-40ac-8943-05e0664f12b4"
      },
      "execution_count": 25,
      "outputs": [
        {
          "output_type": "execute_result",
          "data": {
            "text/plain": [
              "[3, 4, 5, 6, 7, 88, 9]"
            ]
          },
          "metadata": {},
          "execution_count": 25
        }
      ]
    },
    {
      "cell_type": "code",
      "source": [
        "#18. Escreva uma função que receba uma lista de strings e retorne uma lista contendo as strings que começam com uma letra maiúscula.\n",
        "lista = [\"Python\", \"é\", \"uma\", \"Linguagem\", \"Maravilhosa\"]\n",
        "maiuscula(lista)"
      ],
      "metadata": {
        "id": "koMoIzuVu-cC",
        "colab": {
          "base_uri": "https://localhost:8080/"
        },
        "outputId": "c0fe5f59-67d2-49da-ae9f-858c5fb7156d"
      },
      "execution_count": 27,
      "outputs": [
        {
          "output_type": "execute_result",
          "data": {
            "text/plain": [
              "['Python', 'Linguagem', 'Maravilhosa']"
            ]
          },
          "metadata": {},
          "execution_count": 27
        }
      ]
    },
    {
      "cell_type": "code",
      "source": [
        "#19. Faça uma função que receba uma lista de números e retorne uma lista contendo apenas os múltiplos de 3.\n",
        "numeros = [1,2,3,4,5,6,7,8,9,10]\n",
        "mult3(numeros)"
      ],
      "metadata": {
        "id": "17YjJFZIu_ja",
        "colab": {
          "base_uri": "https://localhost:8080/"
        },
        "outputId": "aa089d7b-84c5-45bf-f78f-8ddf9e268a6a"
      },
      "execution_count": 29,
      "outputs": [
        {
          "output_type": "execute_result",
          "data": {
            "text/plain": [
              "[3, 6, 9]"
            ]
          },
          "metadata": {},
          "execution_count": 29
        }
      ]
    },
    {
      "cell_type": "code",
      "source": [
        "#20. Escreva uma função que receba duas listas e retorne uma lista com a interseção ordenada de forma crescente entre elas.\n",
        "lista = [12,10,3,5,91,54,10,2,54]\n",
        "liste = [5,3,0,45,62,51,54,0,2,7]\n",
        "inter(lista,liste)"
      ],
      "metadata": {
        "id": "7cGbokvCvBby",
        "colab": {
          "base_uri": "https://localhost:8080/"
        },
        "outputId": "96bc3023-7c97-4021-b2f9-b0efe97bb1af"
      },
      "execution_count": 38,
      "outputs": [
        {
          "output_type": "execute_result",
          "data": {
            "text/plain": [
              "[0, 2, 3, 5, 7, 45, 51, 54, 62]"
            ]
          },
          "metadata": {},
          "execution_count": 38
        }
      ]
    }
  ]
}