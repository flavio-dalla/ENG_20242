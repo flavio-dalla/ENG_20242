{
  "nbformat": 4,
  "nbformat_minor": 0,
  "metadata": {
    "colab": {
      "provenance": [],
      "authorship_tag": "ABX9TyMaSfTof31BnnfoAOInXaby",
      "include_colab_link": true
    },
    "kernelspec": {
      "name": "python3",
      "display_name": "Python 3"
    },
    "language_info": {
      "name": "python"
    }
  },
  "cells": [
    {
      "cell_type": "markdown",
      "metadata": {
        "id": "view-in-github",
        "colab_type": "text"
      },
      "source": [
        "<a href=\"https://colab.research.google.com/github/flavio-dalla/ENG_20242/blob/main/Atividade1/ATV3Lambda.ipynb\" target=\"_parent\"><img src=\"https://colab.research.google.com/assets/colab-badge.svg\" alt=\"Open In Colab\"/></a>"
      ]
    },
    {
      "cell_type": "code",
      "source": [
        "#1 Dada uma lista de números inteiros, use uma função lambda para retornar uma lista com o quadrado de cada número.\n",
        "numeros = [1, 2, 3, 4, 5]\n",
        "quadrados = list(map(lambda x: x**2, numeros))\n",
        "print(quadrados)"
      ],
      "metadata": {
        "colab": {
          "base_uri": "https://localhost:8080/"
        },
        "id": "UskSwNKW2zKu",
        "outputId": "1d742642-bd9c-42e7-ebb9-d7b113af3633"
      },
      "execution_count": null,
      "outputs": [
        {
          "output_type": "stream",
          "name": "stdout",
          "text": [
            "[1, 4, 9, 16, 25]\n"
          ]
        }
      ]
    },
    {
      "cell_type": "code",
      "source": [
        "#2 Dada uma lista de temperaturas em Celsius, use uma função lambda para convertê-las em Fahrenheit.\n",
        "lista = [5,9,3,-12,45,100,0]\n",
        "fahrenheit = list(map(lambda x: (x * 9/5) + 32, lista))\n",
        "print(fahrenheit)"
      ],
      "metadata": {
        "colab": {
          "base_uri": "https://localhost:8080/"
        },
        "id": "OM3VlrXk89vv",
        "outputId": "e9b7af0d-08a4-4fe3-8636-0c6b8e6362b3"
      },
      "execution_count": null,
      "outputs": [
        {
          "output_type": "stream",
          "name": "stdout",
          "text": [
            "[41.0, 48.2, 37.4, 10.399999999999999, 113.0, 212.0, 32.0]\n"
          ]
        }
      ]
    },
    {
      "cell_type": "code",
      "source": [
        "#3 Dada uma lista de palavras, use uma função lambda para retornar uma lista com o comprimento de cada palavra.\n",
        "palavras = ['um','comida','tamanho','eita']\n",
        "tamanho = list(map(lambda x: len(x), palavras))\n",
        "print(tamanho)"
      ],
      "metadata": {
        "colab": {
          "base_uri": "https://localhost:8080/"
        },
        "id": "Z__jR9Li9BNG",
        "outputId": "9332faca-9ef3-48b9-a68f-cc43323c5e3f"
      },
      "execution_count": null,
      "outputs": [
        {
          "output_type": "stream",
          "name": "stdout",
          "text": [
            "[2, 6, 7, 4]\n"
          ]
        }
      ]
    },
    {
      "cell_type": "code",
      "source": [
        "#4 Use uma função lambda para dobrar os valores de uma lista de inteiros.\n",
        "inteiros = [1,2,3,4,5,6,7,8,9,10]\n",
        "dobro = list(map(lambda x: x*2, inteiros))\n",
        "print(dobro)"
      ],
      "metadata": {
        "colab": {
          "base_uri": "https://localhost:8080/"
        },
        "id": "oT3YMEIV9Co9",
        "outputId": "e79acb61-c039-40d9-9424-9e9002297826"
      },
      "execution_count": null,
      "outputs": [
        {
          "output_type": "stream",
          "name": "stdout",
          "text": [
            "[2, 4, 6, 8, 10, 12, 14, 16, 18, 20]\n"
          ]
        }
      ]
    },
    {
      "cell_type": "code",
      "source": [
        "#5 Dada uma lista de nomes, use uma função lambda para adicionar o prefixo \"Sr./Sra.\" antes de cada nome.\n",
        "lista = ['Zé','Bruna','Gustavo','Flavio']\n",
        "prenome = list(map(lambda x: f'Sr/Sra {x}', lista))\n",
        "print(prenome)"
      ],
      "metadata": {
        "colab": {
          "base_uri": "https://localhost:8080/"
        },
        "id": "NGXY9Eyv9EEe",
        "outputId": "c143e9d0-3218-41ce-f68d-5d860fc96b5e"
      },
      "execution_count": null,
      "outputs": [
        {
          "output_type": "stream",
          "name": "stdout",
          "text": [
            "['Sr/Sra Zé', 'Sr/Sra Bruna', 'Sr/Sra Gustavo', 'Sr/Sra Flavio']\n"
          ]
        }
      ]
    },
    {
      "cell_type": "code",
      "source": [
        "#6 Dada uma lista de números, use uma função lambda para retornar apenas os números pares.\n",
        "numeros = [1,2,3,4,5,6,7,8,9,10]\n",
        "pares = list(filter(lambda x: x % 2 == 0, numeros))\n",
        "print(pares)"
      ],
      "metadata": {
        "colab": {
          "base_uri": "https://localhost:8080/"
        },
        "id": "UI79Gy1c9FmW",
        "outputId": "5bf695ef-ae54-4403-f3f9-020d7ade03b7"
      },
      "execution_count": null,
      "outputs": [
        {
          "output_type": "stream",
          "name": "stdout",
          "text": [
            "[2, 4, 6, 8, 10]\n"
          ]
        }
      ]
    },
    {
      "cell_type": "code",
      "source": [
        "#7 Dada uma lista de palavras, use uma função lambda para retornar apenas as palavras com menos de 5 caracteres.\n",
        "palavras = ['um','comida','tamanho','eita','Zé','Bruna','Gustavo','Flavio']\n",
        "menor5 = list(filter(lambda x: len(x) < 5, palavras))\n",
        "print(menor5)"
      ],
      "metadata": {
        "colab": {
          "base_uri": "https://localhost:8080/"
        },
        "id": "oXNCOPzD9HQd",
        "outputId": "b68c2ff2-fbbb-450e-9fdd-e5b57cae6200"
      },
      "execution_count": null,
      "outputs": [
        {
          "output_type": "stream",
          "name": "stdout",
          "text": [
            "['um', 'eita', 'Zé']\n"
          ]
        }
      ]
    },
    {
      "cell_type": "code",
      "source": [
        "#8 Dada uma lista de idades, use uma função lambda para retornar apenas as idades maiores que 18.\n",
        "idades = [12,15,34,85,18,32,10]\n",
        "mais18 = (list(filter(lambda x: x >= 18, idades)))\n",
        "print(mais18)"
      ],
      "metadata": {
        "colab": {
          "base_uri": "https://localhost:8080/"
        },
        "id": "zGMyHLC19Iq2",
        "outputId": "6b014713-a591-42fb-cba8-f5305fdaa5ae"
      },
      "execution_count": null,
      "outputs": [
        {
          "output_type": "stream",
          "name": "stdout",
          "text": [
            "[34, 85, 18, 32]\n"
          ]
        }
      ]
    },
    {
      "cell_type": "code",
      "source": [
        "#9 Dada uma lista de strings, use uma função lambda para retornar as strings que começam com a letra \"a\".\n",
        "palavras = ['um','comida','tamanho','eita','Zé','Bruna','Gustavo','Flavio', 'amora', 'abacaxi']\n",
        "letraA = list(filter(lambda x: x.startswith('a'), palavras))\n",
        "print(letraA)"
      ],
      "metadata": {
        "colab": {
          "base_uri": "https://localhost:8080/"
        },
        "id": "IZ0eLZ9h9KNW",
        "outputId": "77af29e5-325b-428b-a2c0-68ac84992874"
      },
      "execution_count": null,
      "outputs": [
        {
          "output_type": "stream",
          "name": "stdout",
          "text": [
            "['amora', 'abacaxi']\n"
          ]
        }
      ]
    },
    {
      "cell_type": "code",
      "source": [
        "#10 Dada uma lista de números inteiros, use uma função lambda para retornar apenas os números positivos.\n",
        "numeros = [12,15,34,85,18,32,10,-1,-242,42,-54]\n",
        "pos = list(filter(lambda x: x>=0, numeros))\n",
        "print(pos)"
      ],
      "metadata": {
        "colab": {
          "base_uri": "https://localhost:8080/"
        },
        "id": "N6KSU_3A9LVv",
        "outputId": "34081562-08a2-431f-d7f2-5c4d38e741ab"
      },
      "execution_count": null,
      "outputs": [
        {
          "output_type": "stream",
          "name": "stdout",
          "text": [
            "[12, 15, 34, 85, 18, 32, 10, 42]\n"
          ]
        }
      ]
    },
    {
      "cell_type": "code",
      "source": [
        "#11 Use uma função lambda para calcular a soma de uma lista de números.\n",
        "numeros = [12,15,34,85,18,32,10,-1,-2,42,-54]\n",
        "soma = sum(numeros)\n",
        "print(soma)"
      ],
      "metadata": {
        "colab": {
          "base_uri": "https://localhost:8080/"
        },
        "id": "HplP1lKO9MjG",
        "outputId": "707e2e61-dd35-4cf4-94ca-3aa596d07219"
      },
      "execution_count": null,
      "outputs": [
        {
          "output_type": "stream",
          "name": "stdout",
          "text": [
            "191\n"
          ]
        }
      ]
    },
    {
      "cell_type": "code",
      "source": [
        "#12 Use uma função lambda para multiplicar todos os elementos de uma lista.\n",
        "from functools import reduce\n",
        "numeros = [12,15,34,85,18,32,10,-1,-2,42,-54]\n",
        "multi = reduce(lambda x,y: x*y, numeros)\n",
        "print(multi)"
      ],
      "metadata": {
        "colab": {
          "base_uri": "https://localhost:8080/"
        },
        "id": "pURBgzJi9N22",
        "outputId": "3edf04ce-a228-44b1-9591-962b083066b2"
      },
      "execution_count": null,
      "outputs": [
        {
          "output_type": "stream",
          "name": "stdout",
          "text": [
            "-13591452672000\n"
          ]
        }
      ]
    },
    {
      "cell_type": "code",
      "source": [
        "#13 Use uma função lambda para encontrar o maior número em uma lista.\n",
        "from functools import reduce\n",
        "numeros = [12,15,34,85,18,32,10,-1,-2,42,-54]\n",
        "maiornum = reduce(lambda x, y: x if x > y else y, numeros)\n",
        "print(maiornum)"
      ],
      "metadata": {
        "colab": {
          "base_uri": "https://localhost:8080/"
        },
        "id": "znFe9auk9PN_",
        "outputId": "8c1e6688-03db-4655-884c-a40154b1d555"
      },
      "execution_count": null,
      "outputs": [
        {
          "output_type": "stream",
          "name": "stdout",
          "text": [
            "85\n"
          ]
        }
      ]
    },
    {
      "cell_type": "code",
      "source": [
        "#14 Use uma função lambda para concatenar uma lista de palavras em uma única string separada por espaços.\n",
        "from functools import reduce\n",
        "palavras = ['um','comida','tamanho','eita','Zé','Bruna','Gustavo','Flavio', 'amora', 'abacaxi']\n",
        "frase_lambda = reduce(lambda x, y: x + \" \" + y, palavras)\n",
        "print(frase_lambda)"
      ],
      "metadata": {
        "colab": {
          "base_uri": "https://localhost:8080/"
        },
        "id": "PFqg1d7t9QZO",
        "outputId": "7f67dc76-6b83-47b7-ad0f-6ccddeeaa30c"
      },
      "execution_count": null,
      "outputs": [
        {
          "output_type": "stream",
          "name": "stdout",
          "text": [
            "um comida tamanho eita Zé Bruna Gustavo Flavio amora abacaxi\n"
          ]
        }
      ]
    },
    {
      "cell_type": "code",
      "source": [
        "#15 Use uma função lambda para somar os dígitos de uma lista de inteiros, onde cada número é tratado individualmente.\n",
        "numeros = [123, 456]\n",
        "soma_digitos = list(map(lambda x: sum(map(int, str(x))), numeros))\n",
        "print(soma_digitos)"
      ],
      "metadata": {
        "colab": {
          "base_uri": "https://localhost:8080/"
        },
        "id": "OrTVEXJJ9RoG",
        "outputId": "f57546e9-3e74-4e8a-dd8d-c1c11dd0367d"
      },
      "execution_count": null,
      "outputs": [
        {
          "output_type": "stream",
          "name": "stdout",
          "text": [
            "[6, 15]\n"
          ]
        }
      ]
    },
    {
      "cell_type": "code",
      "source": [
        "#16 Use uma função lambda para dobrar os números de uma lista e retornar apenas os números que são maiores que 20.\n",
        "numeros = [1,2,3,4,5,6,7,8,9,10,11,12,13,14,151,6]\n",
        "maior20 = list(filter(lambda x: x > 20, map(lambda x: x * 2, numeros)))\n",
        "print(maior20)"
      ],
      "metadata": {
        "colab": {
          "base_uri": "https://localhost:8080/"
        },
        "id": "hheCrzAT9Spu",
        "outputId": "d03c4ffb-38df-40f7-e7ae-6af4ffab5814"
      },
      "execution_count": null,
      "outputs": [
        {
          "output_type": "stream",
          "name": "stdout",
          "text": [
            "[22, 24, 26, 28, 302]\n"
          ]
        }
      ]
    },
    {
      "cell_type": "code",
      "source": [
        "#17 Dada uma lista de palavras, use uma função lambda para encontrar todas as palavras que contêm a letra \"e\" e conte quantas são.\n",
        "palavras = ['um','comida','tamanho','eita','Zé','Bruna','Gustavo','Flavio', 'amora', 'abacaxi']\n",
        "quantidade_com_e = sum(map(lambda palavra: 1 if 'e' in palavra else 0, palavras))\n",
        "print(quantidade_com_e)"
      ],
      "metadata": {
        "colab": {
          "base_uri": "https://localhost:8080/"
        },
        "id": "lwFOhxzQ9T3e",
        "outputId": "a381c1e2-3ca7-4fc9-8bea-18b34bcf0db5"
      },
      "execution_count": null,
      "outputs": [
        {
          "output_type": "stream",
          "name": "stdout",
          "text": [
            "1\n"
          ]
        }
      ]
    },
    {
      "cell_type": "code",
      "source": [
        "#18 Converta uma lista de temperaturas de Fahrenheit para Celsius usando uma função lambda e, em seguida, retorne apenas as temperaturas abaixo de 20°C.\n",
        "temperaturas =[32,65,73,-13,69,278]\n",
        "converter = list(filter(lambda x: x<20, map(lambda x: (x-32)*5/9, temperaturas)))\n",
        "print(converter)"
      ],
      "metadata": {
        "id": "W9vLTCpV9VJn",
        "colab": {
          "base_uri": "https://localhost:8080/"
        },
        "outputId": "e69a1a49-3c21-43cc-e8f6-9721769f4447"
      },
      "execution_count": 3,
      "outputs": [
        {
          "output_type": "stream",
          "name": "stdout",
          "text": [
            "[0.0, 18.333333333333332, -25.0]\n"
          ]
        }
      ]
    },
    {
      "cell_type": "code",
      "source": [
        "#19 Use uma função lambda para selecionar apenas os números pares de uma lista e, em seguida, somar esses números.\n",
        "from functools import reduce\n",
        "numeros = [1,2,3,4,5,6,7,8,9,10]\n",
        "somapares = reduce(lambda x,y: x+y, list(filter(lambda x: x%2==0, numeros)))\n",
        "print(somapares)"
      ],
      "metadata": {
        "id": "X7O-S-3Z9Wa-",
        "colab": {
          "base_uri": "https://localhost:8080/"
        },
        "outputId": "54d63c02-312b-4f7f-91d6-5477f473fd46"
      },
      "execution_count": 5,
      "outputs": [
        {
          "output_type": "stream",
          "name": "stdout",
          "text": [
            "30\n"
          ]
        }
      ]
    },
    {
      "cell_type": "code",
      "source": [
        "#20 Use uma função lambda para substituir números negativos de uma lista por 0 e manter os positivos.\n",
        "lista = [0,-1,-2,-3,-4,-5,-6,-7,8,-9,1,2,3,4,5,6,7,8,9]\n",
        "subst = list(map(lambda x: 0 if x<0 else x, lista))\n",
        "print(subst)"
      ],
      "metadata": {
        "id": "z0E89fN29Xo_",
        "colab": {
          "base_uri": "https://localhost:8080/"
        },
        "outputId": "f651f3d6-4f94-4d32-a2ec-15a085fd1d83"
      },
      "execution_count": 11,
      "outputs": [
        {
          "output_type": "stream",
          "name": "stdout",
          "text": [
            "[0, 0, 0, 0, 0, 0, 0, 0, 8, 0, 1, 2, 3, 4, 5, 6, 7, 8, 9]\n"
          ]
        }
      ]
    },
    {
      "cell_type": "code",
      "source": [
        "#21 Use uma função lambda para retornar a lista de cubos de cada elemento em uma lista de números.\n",
        "numeros = [32,65,73,-13,69,278]\n",
        "cubo = list(map(lambda x: x**3, numeros))\n",
        "print(cubo)"
      ],
      "metadata": {
        "id": "dKAIY_TZ9ZKP",
        "colab": {
          "base_uri": "https://localhost:8080/"
        },
        "outputId": "cdebe9ef-e0b6-4051-d393-33293f007ffc"
      },
      "execution_count": 12,
      "outputs": [
        {
          "output_type": "stream",
          "name": "stdout",
          "text": [
            "[32768, 274625, 389017, -2197, 328509, 21484952]\n"
          ]
        }
      ]
    },
    {
      "cell_type": "code",
      "source": [
        "#22 Use uma função lambda para verificar se um número dado é primo (retornando True ou False).\n",
        "numeros = [1,2,3,4,5,6,7,8,9,10]\n",
        "primo = list(map(lambda x: x > 1 and all(x % i != 0 for i in range(2, int(x**0.5) + 1)),numeros))\n",
        "print(primo)"
      ],
      "metadata": {
        "id": "PPcSJWVi9aVn",
        "colab": {
          "base_uri": "https://localhost:8080/"
        },
        "outputId": "7973baf2-9655-4fe7-db5b-89939a510573"
      },
      "execution_count": 17,
      "outputs": [
        {
          "output_type": "stream",
          "name": "stdout",
          "text": [
            "[False, True, True, False, True, False, True, False, False, False]\n"
          ]
        }
      ]
    },
    {
      "cell_type": "code",
      "source": [
        "#23 Use uma função lambda para dividir cada elemento de uma lista por 5 e retornar a nova lista.\n",
        "lista = [1,2,3,4,5,6,7,8,9,10]\n",
        "div5 = list(map(lambda x: x/5, lista))\n",
        "print(div5)"
      ],
      "metadata": {
        "id": "NE82u-5L9bwn",
        "colab": {
          "base_uri": "https://localhost:8080/"
        },
        "outputId": "93a0e1d1-4b92-4b24-c19e-f7962e98ca75"
      },
      "execution_count": 19,
      "outputs": [
        {
          "output_type": "stream",
          "name": "stdout",
          "text": [
            "[0.2, 0.4, 0.6, 0.8, 1.0, 1.2, 1.4, 1.6, 1.8, 2.0]\n"
          ]
        }
      ]
    },
    {
      "cell_type": "code",
      "source": [
        "#24 Use uma função lambda para remover todas as vogais de uma string dada.\n",
        "palavras = ['um','comida','tamanho','eita','Zé','Bruna','Gustavo','Flavio', 'amora', 'abacaxi']\n",
        "semvogais = list(map(lambda x: \"\".join(i for i in x if i.lower() not in 'aeiou'), palavras))\n",
        "print(semvogais)"
      ],
      "metadata": {
        "id": "pOpTNL2A9dsW",
        "colab": {
          "base_uri": "https://localhost:8080/"
        },
        "outputId": "2032be2a-a164-46c7-a3ca-767affcee326"
      },
      "execution_count": 21,
      "outputs": [
        {
          "output_type": "stream",
          "name": "stdout",
          "text": [
            "['m', 'cmd', 'tmnh', 't', 'Zé', 'Brn', 'Gstv', 'Flv', 'mr', 'bcx']\n"
          ]
        }
      ]
    },
    {
      "cell_type": "code",
      "source": [
        "#25 Use uma função lambda para converter todas as palavras em uma lista para letras maiúsculas.\n",
        "palavras = ['um','comida','tamanho','eita','Zé','Bruna','Gustavo','Flavio', 'amora', 'abacaxi']\n",
        "maiuscula = list(map(lambda x: x.upper(), palavras))\n",
        "print(maiuscula)"
      ],
      "metadata": {
        "id": "clAZ-ZT_9faH",
        "colab": {
          "base_uri": "https://localhost:8080/"
        },
        "outputId": "5833d53b-4b81-4253-872e-6b0810e8d7e6"
      },
      "execution_count": 22,
      "outputs": [
        {
          "output_type": "stream",
          "name": "stdout",
          "text": [
            "['UM', 'COMIDA', 'TAMANHO', 'EITA', 'ZÉ', 'BRUNA', 'GUSTAVO', 'FLAVIO', 'AMORA', 'ABACAXI']\n"
          ]
        }
      ]
    },
    {
      "cell_type": "code",
      "source": [
        "#26 Use uma função lambda para retornar apenas os números negativos de uma lista de inteiros.\n",
        "lista = [0,-1,-2,-3,-4,-5,-6,-7,8,-9,1,2,3,4,5,6,7,8,9]\n",
        "neg = list(filter(lambda x: x<0, lista))\n",
        "print(neg)"
      ],
      "metadata": {
        "id": "aXvPtDvv9iUG",
        "colab": {
          "base_uri": "https://localhost:8080/"
        },
        "outputId": "04cde5d7-055d-4df3-ebc2-9763d6c6f634"
      },
      "execution_count": 31,
      "outputs": [
        {
          "output_type": "stream",
          "name": "stdout",
          "text": [
            "[-1, -2, -3, -4, -5, -6, -7, -9]\n"
          ]
        }
      ]
    },
    {
      "cell_type": "code",
      "source": [
        "#27 Use uma função lambda para converter todos os números de uma lista para seus valores absolutos.\n",
        "numeros = [0,-1,-2,-3,-4,-5,-6,-7,8,-9,1,2,3,4,5,6,7,8,9]\n",
        "absolute = lambda numeros: list(map(abs, numeros))\n",
        "print(absolute(numeros))"
      ],
      "metadata": {
        "id": "s8hPBPo39jf3",
        "colab": {
          "base_uri": "https://localhost:8080/"
        },
        "outputId": "c94c9e18-27d6-4389-9317-6daf7b768609"
      },
      "execution_count": 32,
      "outputs": [
        {
          "output_type": "stream",
          "name": "stdout",
          "text": [
            "[0, 1, 2, 3, 4, 5, 6, 7, 8, 9, 1, 2, 3, 4, 5, 6, 7, 8, 9]\n"
          ]
        }
      ]
    },
    {
      "cell_type": "code",
      "source": [
        "#28 Use uma função lambda para retornar uma lista com o resto da divisão de cada elemento por 3.\n",
        "numeros = [0,-1,-2,-3,-4,-5,-6,-7,8,-9,1,2,3,4,5,6,7,8,9]\n",
        "resto3 = list(map(lambda x: x%3, numeros))\n",
        "print(resto3)"
      ],
      "metadata": {
        "id": "4A5zHvs19k1X",
        "colab": {
          "base_uri": "https://localhost:8080/"
        },
        "outputId": "de3bdaac-14ec-4b0d-b70f-3d7199972793"
      },
      "execution_count": 33,
      "outputs": [
        {
          "output_type": "stream",
          "name": "stdout",
          "text": [
            "[0, 2, 1, 0, 2, 1, 0, 2, 2, 0, 1, 2, 0, 1, 2, 0, 1, 2, 0]\n"
          ]
        }
      ]
    },
    {
      "cell_type": "code",
      "source": [
        "from ast import Index\n",
        "#29 Dada uma lista de números, use uma função lambda para multiplicar cada elemento pelo seu índice.\n",
        "numeros = [0,2,3,4,2,3,4]\n",
        "indice = list(map(lambda x: x*numeros.index(x), numeros))\n",
        "print(indice)"
      ],
      "metadata": {
        "id": "M65rADeT9mU-",
        "colab": {
          "base_uri": "https://localhost:8080/"
        },
        "outputId": "c12a306a-42e8-4d95-d376-0907ab596a1d"
      },
      "execution_count": 36,
      "outputs": [
        {
          "output_type": "stream",
          "name": "stdout",
          "text": [
            "[0, 2, 6, 12, 2, 6, 12]\n"
          ]
        }
      ]
    },
    {
      "cell_type": "code",
      "source": [
        "#30 Use uma função lambda para verificar se uma palavra dada é um palíndromo (retornando True ou False).\n",
        "palindromo = lambda palavra: palavra == palavra[::-1]\n",
        "print(palindromo('arara'))"
      ],
      "metadata": {
        "id": "M9-DUkZ39nd3",
        "colab": {
          "base_uri": "https://localhost:8080/"
        },
        "outputId": "c6b3a54e-908f-4079-8aea-21fc47fa86d5"
      },
      "execution_count": 42,
      "outputs": [
        {
          "output_type": "stream",
          "name": "stdout",
          "text": [
            "True\n"
          ]
        }
      ]
    }
  ]
}