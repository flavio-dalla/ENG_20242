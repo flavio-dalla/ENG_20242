{
  "nbformat": 4,
  "nbformat_minor": 0,
  "metadata": {
    "colab": {
      "provenance": [],
      "authorship_tag": "ABX9TyN2YAaIEGqDhtSqDuOGpVu/",
      "include_colab_link": true
    },
    "kernelspec": {
      "name": "python3",
      "display_name": "Python 3"
    },
    "language_info": {
      "name": "python"
    }
  },
  "cells": [
    {
      "cell_type": "markdown",
      "metadata": {
        "id": "view-in-github",
        "colab_type": "text"
      },
      "source": [
        "<a href=\"https://colab.research.google.com/github/flavio-dalla/ENG_20242/blob/main/Atividade1/atv_dicionario_tupla_10102024.ipynb\" target=\"_parent\"><img src=\"https://colab.research.google.com/assets/colab-badge.svg\" alt=\"Open In Colab\"/></a>"
      ]
    },
    {
      "cell_type": "code",
      "source": [
        "# 1. Crie uma tupla chamada cidades que contenha os nomes de cinco cidades. Imprima a terceira cidade.\n",
        "\n",
        "cidades = ('Penha','Vila Velha','New York','Curitiba','Porto Alegre')\n",
        "\n",
        "print(cidades[2])"
      ],
      "metadata": {
        "colab": {
          "base_uri": "https://localhost:8080/"
        },
        "id": "EZtfM5p1DVUt",
        "outputId": "b7057c75-bc6e-4599-d7fa-7b3992db4cd0"
      },
      "execution_count": null,
      "outputs": [
        {
          "output_type": "stream",
          "name": "stdout",
          "text": [
            "New York\n"
          ]
        }
      ]
    },
    {
      "cell_type": "code",
      "source": [
        "# 2. Crie uma tupla chamada numeros com os seguintes valores: (1, 2, 3, 1, 4, 1). Utilize o método count() para contar quantas vezes o número 1 aparece na tupla.\n",
        "numeros = (1, 2, 3, 1, 4, 1)\n",
        "print(numeros.count(1))"
      ],
      "metadata": {
        "colab": {
          "base_uri": "https://localhost:8080/"
        },
        "id": "7RLVmDDIEMRh",
        "outputId": "cb967859-f039-4808-ff80-08919b012f42"
      },
      "execution_count": null,
      "outputs": [
        {
          "output_type": "stream",
          "name": "stdout",
          "text": [
            "3\n"
          ]
        }
      ]
    },
    {
      "cell_type": "code",
      "source": [
        "# 3; Crie uma tupla chamada animais com os seguintes valores: ('cachorro', 'gato', 'pássaro'). Verifique se 'gato' está na tupla e imprima uma mensagem informando o resultado.\n",
        "\n",
        "animais = ('cachorro', 'gato', 'pássaro')\n",
        "\n",
        "if 'gato' in animais:\n",
        "  print('gato está na lista.')\n",
        "else:\n",
        "  print('gato não está na lista')"
      ],
      "metadata": {
        "colab": {
          "base_uri": "https://localhost:8080/"
        },
        "id": "PMasRUP_EcJl",
        "outputId": "4a4a717b-710a-443e-b901-3dea6771d2ac"
      },
      "execution_count": null,
      "outputs": [
        {
          "output_type": "stream",
          "name": "stdout",
          "text": [
            "gato está na lista.\n"
          ]
        }
      ]
    },
    {
      "cell_type": "code",
      "source": [
        "# 4. Dada a tupla meses = ('janeiro', 'fevereiro', 'março', 'abril', 'maio'), encontre e imprima o índice do mês 'abril'.\n",
        "\n",
        "meses = ('janeiro', 'fevereiro', 'março', 'abril', 'maio')\n",
        "local = meses.index('abril')\n",
        "print(f'O mês abril se encontra na posição {local} na lista.')"
      ],
      "metadata": {
        "colab": {
          "base_uri": "https://localhost:8080/"
        },
        "id": "sHMVV1WCFPrO",
        "outputId": "6a4d99c7-f3b7-454b-d6c0-d25b94bc234e"
      },
      "execution_count": null,
      "outputs": [
        {
          "output_type": "stream",
          "name": "stdout",
          "text": [
            "O mês abril se encontra na posição 3 na lista.\n"
          ]
        }
      ]
    },
    {
      "cell_type": "code",
      "source": [
        "# 5. Crie uma tupla chamada coordenadas que armazene a latitude e longitude de um local (ex: (-23.5505, -46.6333)). Imprima a latitude e a longitude separadamente.\n",
        "\n",
        "coordenadas = (-23.5505, -46.6333)\n",
        "\n",
        "print(f' Latitude = {coordenadas[0]} \\n Longitude = {coordenadas[1]}')"
      ],
      "metadata": {
        "colab": {
          "base_uri": "https://localhost:8080/"
        },
        "id": "S2h2AwCpGKRc",
        "outputId": "5c27702b-e590-40a7-fec8-cd3a8f2063d1"
      },
      "execution_count": null,
      "outputs": [
        {
          "output_type": "stream",
          "name": "stdout",
          "text": [
            " Latitude = -23.5505 \n",
            " Longitude = -46.6333\n"
          ]
        }
      ]
    },
    {
      "cell_type": "code",
      "source": [
        "# 6. Crie um dicionário chamado carro com as chaves marca, modelo e ano. Atribua valores de sua escolha e imprima o modelo do carro.\n",
        "\n",
        "carro = {\n",
        "    'marca': 'Toyota',\n",
        "    'modelo': 'Corolla XEI 2.0',\n",
        "    'ano':'2017'\n",
        "}\n",
        "\n",
        "print(carro['modelo'])"
      ],
      "metadata": {
        "colab": {
          "base_uri": "https://localhost:8080/"
        },
        "id": "v72o7cwVHcsx",
        "outputId": "5637eb40-95af-4afb-c555-e4198ca3e7a3"
      },
      "execution_count": null,
      "outputs": [
        {
          "output_type": "stream",
          "name": "stdout",
          "text": [
            "Corolla XEI 2.0\n"
          ]
        }
      ]
    },
    {
      "cell_type": "code",
      "source": [
        "# 7. Use o dicionário carro que você criou no exercício anterior. Adicione uma nova chave chamada cor e atribua uma cor ao carro. Em seguida, imprima o dicionário completo\n",
        "\n",
        "carro = {\n",
        "    'marca': 'Toyota',\n",
        "    'modelo': 'Corolla XEI 2.0',\n",
        "    'ano':'2017'\n",
        "}\n",
        "\n",
        "carro['cor'] = 'Branco Perolado'\n",
        "\n",
        "print(carro)"
      ],
      "metadata": {
        "colab": {
          "base_uri": "https://localhost:8080/"
        },
        "id": "-tzLGb_xKz-H",
        "outputId": "5e989646-9a19-413e-cacb-2b6ce779710b"
      },
      "execution_count": null,
      "outputs": [
        {
          "output_type": "stream",
          "name": "stdout",
          "text": [
            "{'marca': 'Toyota', 'modelo': 'Corolla XEI 2.0', 'ano': '2017', 'cor': 'Branco Perolado'}\n"
          ]
        }
      ]
    },
    {
      "cell_type": "code",
      "source": [
        "# 8. Dado o dicionário pessoa = {'nome': 'João', 'idade': 30, 'cidade': 'São Paulo'}, remova a chave idade e imprima o dicionário resultante.\n",
        "\n",
        "pessoa = {'nome': 'João', 'idade': 30, 'cidade': 'São Paulo'}\n",
        "pessoa.pop('idade')\n",
        "print(pessoa)"
      ],
      "metadata": {
        "colab": {
          "base_uri": "https://localhost:8080/"
        },
        "id": "Q0XN-ei9LHSC",
        "outputId": "7381867f-ccc4-4fb7-90c9-848a576cb8a9"
      },
      "execution_count": null,
      "outputs": [
        {
          "output_type": "stream",
          "name": "stdout",
          "text": [
            "{'nome': 'João', 'cidade': 'São Paulo'}\n"
          ]
        }
      ]
    },
    {
      "cell_type": "code",
      "source": [
        "# 9. Crie um dicionário chamado produto que contenha nome, preco e quantidade. Use um loop for para imprimir todos os pares chave/valor.\n",
        "\n",
        "produto = {\n",
        "    'nome': 'biscoito',\n",
        "    'preço': 'R$ 5.00',\n",
        "    'quantidade': 1\n",
        "}\n",
        "\n",
        "for i in produto:\n",
        "  print(f'{i}: {produto[i]}')"
      ],
      "metadata": {
        "colab": {
          "base_uri": "https://localhost:8080/"
        },
        "id": "nchO52IuLkeo",
        "outputId": "6f9cf908-935e-4619-e78a-300f93346fb6"
      },
      "execution_count": null,
      "outputs": [
        {
          "output_type": "stream",
          "name": "stdout",
          "text": [
            "nome: biscoito\n",
            "preço: R$ 5.00\n",
            "quantidade: 1\n"
          ]
        }
      ]
    },
    {
      "cell_type": "code",
      "source": [
        "#10 Dado o dicionário estudante = {'nome': 'Maria', 'curso': 'Biologia', 'ano': 2}, verifique se a chave curso existe. Se existir, imprima \"A estudante está no curso de Biologia.\"\n",
        "\n",
        "estudante = {'nome': 'Maria', 'curso': 'Biologia', 'ano': 2}\n",
        "\n",
        "if 'curso' in estudante:\n",
        "  print(f\"A estudante está no curso de {estudante['curso']}\")\n",
        "else:\n",
        "  print(f\"A estudante não está no curso de {estudante['curso']}\")"
      ],
      "metadata": {
        "colab": {
          "base_uri": "https://localhost:8080/"
        },
        "id": "YOR6EXdwMHoJ",
        "outputId": "3c543e1b-1798-42a0-a202-7e7894f6cc22"
      },
      "execution_count": null,
      "outputs": [
        {
          "output_type": "stream",
          "name": "stdout",
          "text": [
            "A estudante está no curso de Biologia\n"
          ]
        }
      ]
    }
  ]
}